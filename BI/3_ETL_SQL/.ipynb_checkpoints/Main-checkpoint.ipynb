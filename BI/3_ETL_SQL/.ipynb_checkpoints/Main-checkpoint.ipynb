{
 "cells": [
  {
   "cell_type": "code",
   "execution_count": 1,
   "id": "ef92dbaf-1a12-456a-aa5f-c28f8ad51eaa",
   "metadata": {},
   "outputs": [],
   "source": [
    "import sqlite3\n",
    "import json\n",
    "\n",
    "# Connect to SQLite database (creates a new database if not exist)\n",
    "conn = sqlite3.connect('etl_database.db')\n",
    "cursor = conn.cursor()\n",
    "\n",
    "# Create tables\n",
    "cursor.execute('''\n",
    "    CREATE TABLE IF NOT EXISTS SourceTable (\n",
    "        id INTEGER PRIMARY KEY,\n",
    "        name TEXT,\n",
    "        age INTEGER,\n",
    "        city TEXT,\n",
    "        phoneNumber TEXT,\n",
    "        color TEXT\n",
    "    )\n",
    "''')\n",
    "\n",
    "cursor.execute('''\n",
    "    CREATE TABLE IF NOT EXISTS DestinationTable (\n",
    "        id INTEGER PRIMARY KEY,\n",
    "        name TEXT,\n",
    "        age INTEGER,\n",
    "        city TEXT,\n",
    "        phoneNumber TEXT,\n",
    "        color TEXT\n",
    "    )\n",
    "''')\n",
    "\n",
    "# Commit changes and close connection\n",
    "conn.commit()\n",
    "conn.close()\n"
   ]
  },
  {
   "cell_type": "code",
   "execution_count": 2,
   "id": "edc96f20-78af-467e-a13c-219580539e74",
   "metadata": {},
   "outputs": [
    {
     "name": "stdout",
     "output_type": "stream",
     "text": [
      "Data in DestinationTable:\n"
     ]
    }
   ],
   "source": [
    "import sqlite3\n",
    "\n",
    "# Connect to SQLite database\n",
    "conn = sqlite3.connect('etl_database.db')\n",
    "cursor = conn.cursor()\n",
    "\n",
    "# Select data from DestinationTable\n",
    "cursor.execute('SELECT * FROM DestinationTable')\n",
    "rows = cursor.fetchall()\n",
    "\n",
    "# Print the data\n",
    "print(\"Data in DestinationTable:\")\n",
    "for row in rows:\n",
    "    print(row)\n",
    "\n",
    "# Close connection\n",
    "conn.close()\n"
   ]
  },
  {
   "cell_type": "code",
   "execution_count": 3,
   "id": "a1e99881-96a6-4e35-af8d-d05a02fd22bc",
   "metadata": {},
   "outputs": [],
   "source": [
    "import csv\n",
    "\n",
    "# Extract data from CSV\n",
    "with open('source_data.csv', 'r') as csv_file:\n",
    "    csv_reader = csv.reader(csv_file)\n",
    "    next(csv_reader)  # Skip header row\n",
    "    data_to_insert = [row for row in csv_reader]\n"
   ]
  },
  {
   "cell_type": "code",
   "execution_count": 4,
   "id": "0dbf5883-28a3-4d74-973d-0a0d66b2b4f5",
   "metadata": {},
   "outputs": [
    {
     "data": {
      "text/plain": [
       "[['1', 'Person 1', '42', 'New York'],\n",
       " ['2', 'Person 2', '25', 'London'],\n",
       " ['3', 'Person 3', '32', 'London'],\n",
       " ['4', 'Person 4', '60', 'London'],\n",
       " ['5', 'Person 5', '41', 'Paris'],\n",
       " ['6', 'Person 6', '26', 'Tokyo'],\n",
       " ['7', 'Person 7', '51', 'Tokyo'],\n",
       " ['8', 'Person 8', '58', 'London'],\n",
       " ['9', 'Person 9', '39', 'New York'],\n",
       " ['10', 'Person 10', '58', 'Paris']]"
      ]
     },
     "execution_count": 4,
     "metadata": {},
     "output_type": "execute_result"
    }
   ],
   "source": [
    "data_to_insert"
   ]
  },
  {
   "cell_type": "code",
   "execution_count": 5,
   "id": "3e055015-21eb-4a47-8f20-cd516faa683d",
   "metadata": {},
   "outputs": [],
   "source": [
    "# Extract data from JSON\n",
    "with open('data.json', 'r') as json_file:\n",
    "    json_data = json.load(json_file)"
   ]
  },
  {
   "cell_type": "code",
   "execution_count": 6,
   "id": "76e8eed3-0804-48e4-a6d1-ab2746fc6e4a",
   "metadata": {},
   "outputs": [
    {
     "data": {
      "text/plain": [
       "[{'id': 1, 'phoneNumber': '123-456-7890', 'color': 'Red'},\n",
       " {'id': 2, 'phoneNumber': '234-567-8901', 'color': 'Blue'},\n",
       " {'id': 3, 'phoneNumber': '345-678-9012', 'color': 'Green'},\n",
       " {'id': 4, 'phoneNumber': '456-789-0123', 'color': 'Yellow'},\n",
       " {'id': 5, 'phoneNumber': '567-890-1234', 'color': 'Orange'},\n",
       " {'id': 6, 'phoneNumber': '678-901-2345', 'color': 'Purple'},\n",
       " {'id': 7, 'phoneNumber': '789-012-3456', 'color': 'Pink'},\n",
       " {'id': 8, 'phoneNumber': '890-123-4567', 'color': 'Brown'},\n",
       " {'id': 9, 'phoneNumber': '901-234-5678', 'color': 'Black'},\n",
       " {'id': 10, 'phoneNumber': '012-345-6789', 'color': 'White'}]"
      ]
     },
     "execution_count": 6,
     "metadata": {},
     "output_type": "execute_result"
    }
   ],
   "source": [
    "json_data"
   ]
  },
  {
   "cell_type": "code",
   "execution_count": 7,
   "id": "6ea80a79-c73d-478c-97ab-df76f144f009",
   "metadata": {},
   "outputs": [],
   "source": [
    "# Combine CSV and JSON data\n",
    "combined_data = [(row[0], row[1], int(row[2]), row[3], json_data[index]['phoneNumber'], json_data[index]['color']) for index, row in enumerate(data_to_insert)]"
   ]
  },
  {
   "cell_type": "code",
   "execution_count": 8,
   "id": "4ca0b3db-8380-417b-92f0-3abff4b164b5",
   "metadata": {},
   "outputs": [],
   "source": [
    "# Connect to SQLite database\n",
    "conn = sqlite3.connect('etl_database.db')\n",
    "cursor = conn.cursor()\n",
    "\n",
    "# Transform and load combined data into DestinationTable\n",
    "cursor.executemany('''\n",
    "    INSERT INTO DestinationTable (id, name, age, city, phoneNumber, color)\n",
    "    VALUES (?, ?, ?, ?, ?, ?)\n",
    "''', combined_data)\n",
    "\n",
    "# Commit changes and close connection\n",
    "conn.commit()\n",
    "conn.close()\n"
   ]
  },
  {
   "cell_type": "code",
   "execution_count": 9,
   "id": "82f5bcd6-e3ad-4db9-9caf-62923f59c891",
   "metadata": {},
   "outputs": [
    {
     "name": "stdout",
     "output_type": "stream",
     "text": [
      "Data in DestinationTable:\n",
      "(1, 'Person 1', 42, 'New York', '123-456-7890', 'Red')\n",
      "(2, 'Person 2', 25, 'London', '234-567-8901', 'Blue')\n",
      "(3, 'Person 3', 32, 'London', '345-678-9012', 'Green')\n",
      "(4, 'Person 4', 60, 'London', '456-789-0123', 'Yellow')\n",
      "(5, 'Person 5', 41, 'Paris', '567-890-1234', 'Orange')\n",
      "(6, 'Person 6', 26, 'Tokyo', '678-901-2345', 'Purple')\n",
      "(7, 'Person 7', 51, 'Tokyo', '789-012-3456', 'Pink')\n",
      "(8, 'Person 8', 58, 'London', '890-123-4567', 'Brown')\n",
      "(9, 'Person 9', 39, 'New York', '901-234-5678', 'Black')\n",
      "(10, 'Person 10', 58, 'Paris', '012-345-6789', 'White')\n"
     ]
    }
   ],
   "source": [
    "import sqlite3\n",
    "\n",
    "# Connect to SQLite database\n",
    "conn = sqlite3.connect('etl_database.db')\n",
    "cursor = conn.cursor()\n",
    "\n",
    "# Select data from DestinationTable\n",
    "cursor.execute('SELECT * FROM DestinationTable')\n",
    "rows = cursor.fetchall()\n",
    "\n",
    "# Print the data\n",
    "print(\"Data in DestinationTable:\")\n",
    "for row in rows:\n",
    "    print(row)\n",
    "\n",
    "# Close connection\n",
    "conn.close()\n"
   ]
  },
  {
   "cell_type": "code",
   "execution_count": null,
   "id": "af18deca-800e-4cb2-839b-b672e0d5deb9",
   "metadata": {},
   "outputs": [],
   "source": []
  },
  {
   "cell_type": "code",
   "execution_count": null,
   "id": "0fa2a8b4-a91b-428c-8f6b-88c3a996c1a7",
   "metadata": {},
   "outputs": [],
   "source": []
  }
 ],
 "metadata": {
  "kernelspec": {
   "display_name": "Python 3 (ipykernel)",
   "language": "python",
   "name": "python3"
  },
  "language_info": {
   "codemirror_mode": {
    "name": "ipython",
    "version": 3
   },
   "file_extension": ".py",
   "mimetype": "text/x-python",
   "name": "python",
   "nbconvert_exporter": "python",
   "pygments_lexer": "ipython3",
   "version": "3.9.18"
  }
 },
 "nbformat": 4,
 "nbformat_minor": 5
}
