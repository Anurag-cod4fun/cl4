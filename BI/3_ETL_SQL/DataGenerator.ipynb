{
 "cells": [
  {
   "cell_type": "code",
   "execution_count": 1,
   "id": "70ee3e04-bda1-420e-981d-6e0b40804e59",
   "metadata": {},
   "outputs": [
    {
     "name": "stdout",
     "output_type": "stream",
     "text": [
      "Dummy data generated and saved to source_data.csv\n"
     ]
    }
   ],
   "source": [
    "import csv\n",
    "import random\n",
    "\n",
    "# Generate dummy data\n",
    "num_records = 10  # Number of records to generate\n",
    "data_to_write = []\n",
    "for i in range(1, num_records + 1):\n",
    "    name = f'Person {i}'\n",
    "    age = random.randint(20, 60)\n",
    "    city = random.choice(['New York', 'London', 'Tokyo', 'Paris'])\n",
    "    data_to_write.append((i, name, age, city))\n",
    "\n",
    "# Write dummy data to CSV file\n",
    "with open('source_data.csv', 'w', newline='') as csv_file:\n",
    "    csv_writer = csv.writer(csv_file)\n",
    "    csv_writer.writerow(['id', 'name', 'age', 'city'])  # Write header\n",
    "    csv_writer.writerows(data_to_write)\n",
    "\n",
    "print('Dummy data generated and saved to source_data.csv')\n"
   ]
  },
  {
   "cell_type": "code",
   "execution_count": null,
   "id": "b2adc4a9-9c9a-4cc9-bd48-6b11f9f8b9ea",
   "metadata": {},
   "outputs": [],
   "source": []
  }
 ],
 "metadata": {
  "kernelspec": {
   "display_name": "Python 3 (ipykernel)",
   "language": "python",
   "name": "python3"
  },
  "language_info": {
   "codemirror_mode": {
    "name": "ipython",
    "version": 3
   },
   "file_extension": ".py",
   "mimetype": "text/x-python",
   "name": "python",
   "nbconvert_exporter": "python",
   "pygments_lexer": "ipython3",
   "version": "3.9.18"
  }
 },
 "nbformat": 4,
 "nbformat_minor": 5
}
