{
 "cells": [
  {
   "cell_type": "code",
   "execution_count": 1,
   "id": "14ce3348-c21a-4ab7-a174-a81d0352848f",
   "metadata": {},
   "outputs": [],
   "source": [
    "import pandas as pd\n",
    "\n",
    "# Create a DataFrame with the given data\n",
    "data = {\n",
    "    'ID': [i for i in range(1, 51)],  # IDs from 1 to 50\n",
    "    'Name': ['Name{}'.format(i) for i in range(1, 51)],  # Names as Name1, Name2, ...\n",
    "    'Age': [25 + i % 20 for i in range(1, 51)],  # Ages from 25 to 44 cyclically\n",
    "    'City': ['City{}'.format(i) for i in range(1, 51)]  # Cities as City1, City2, ...\n",
    "}\n",
    "\n",
    "df = pd.DataFrame(data)\n",
    "\n",
    "# Save the DataFrame to CSV, Excel, and JSON files\n",
    "df.to_csv('data.csv', index=False)\n",
    "df.to_excel('data.xlsx', index=False)\n",
    "df.to_json('data.json', orient='records')\n"
   ]
  },
  {
   "cell_type": "code",
   "execution_count": null,
   "id": "cb1488fe-3a8d-4228-a1ec-355304363706",
   "metadata": {},
   "outputs": [],
   "source": []
  }
 ],
 "metadata": {
  "kernelspec": {
   "display_name": "Python 3 (ipykernel)",
   "language": "python",
   "name": "python3"
  },
  "language_info": {
   "codemirror_mode": {
    "name": "ipython",
    "version": 3
   },
   "file_extension": ".py",
   "mimetype": "text/x-python",
   "name": "python",
   "nbconvert_exporter": "python",
   "pygments_lexer": "ipython3",
   "version": "3.9.18"
  }
 },
 "nbformat": 4,
 "nbformat_minor": 5
}
