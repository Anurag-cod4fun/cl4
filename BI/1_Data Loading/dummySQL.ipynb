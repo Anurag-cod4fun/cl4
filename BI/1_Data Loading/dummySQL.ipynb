{
 "cells": [
  {
   "cell_type": "code",
   "execution_count": 3,
   "id": "b5833e6a-3c80-4285-b672-68436d02ece6",
   "metadata": {},
   "outputs": [],
   "source": [
    "import sqlite3\n",
    "import pandas as pd\n",
    "\n",
    "# Connect to SQLite database (create if not exists)\n",
    "conn = sqlite3.connect('db.sqlite')\n",
    "\n",
    "# Create a DataFrame with 25 rows of sample data\n",
    "data = {\n",
    "    'ID': [i for i in range(1, 26)],  # IDs from 1 to 25\n",
    "    'Name': ['Name{}'.format(i) for i in range(1, 26)],  # Names as Name1, Name2, ...\n",
    "    'Age': [25 + i % 20 for i in range(1, 26)],  # Ages from 25 to 44 cyclically\n",
    "    'City': ['City{}'.format(i) for i in range(1, 26)]  # Cities as City1, City2, ...\n",
    "}\n",
    "\n",
    "df = pd.DataFrame(data)\n",
    "\n",
    "# Save the DataFrame to a SQLite table\n",
    "df.to_sql('data', conn, if_exists='replace', index=False)\n",
    "\n",
    "# Commit changes and close connection\n",
    "conn.commit()\n",
    "conn.close()\n"
   ]
  },
  {
   "cell_type": "code",
   "execution_count": null,
   "id": "bf457778-37ca-43eb-a474-67e29ef038df",
   "metadata": {},
   "outputs": [],
   "source": []
  }
 ],
 "metadata": {
  "kernelspec": {
   "display_name": "Python 3 (ipykernel)",
   "language": "python",
   "name": "python3"
  },
  "language_info": {
   "codemirror_mode": {
    "name": "ipython",
    "version": 3
   },
   "file_extension": ".py",
   "mimetype": "text/x-python",
   "name": "python",
   "nbconvert_exporter": "python",
   "pygments_lexer": "ipython3",
   "version": "3.9.18"
  }
 },
 "nbformat": 4,
 "nbformat_minor": 5
}
